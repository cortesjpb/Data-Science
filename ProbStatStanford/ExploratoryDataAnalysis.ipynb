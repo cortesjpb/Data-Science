{
 "cells": [
  {
   "cell_type": "code",
   "execution_count": 4,
   "metadata": {},
   "outputs": [],
   "source": [
    "import pandas as pd\n",
    "import numpy as np\n",
    "import matplotlib.pyplot as plt"
   ]
  },
  {
   "cell_type": "markdown",
   "metadata": {},
   "source": [
    "<h2>Depression Dataset</h2>"
   ]
  },
  {
   "cell_type": "code",
   "execution_count": null,
   "metadata": {},
   "outputs": [],
   "source": [
    "df = pd.read_excel('depression.xls')"
   ]
  },
  {
   "cell_type": "code",
   "execution_count": null,
   "metadata": {},
   "outputs": [],
   "source": [
    "df"
   ]
  },
  {
   "cell_type": "code",
   "execution_count": null,
   "metadata": {},
   "outputs": [],
   "source": [
    "df['Gender'] = df['Gender'].map({1: 'Male',2: 'Female'})"
   ]
  },
  {
   "cell_type": "code",
   "execution_count": null,
   "metadata": {},
   "outputs": [],
   "source": [
    "df"
   ]
  },
  {
   "cell_type": "markdown",
   "metadata": {},
   "source": [
    "<h2>Friends Dataset</h2>"
   ]
  },
  {
   "cell_type": "code",
   "execution_count": null,
   "metadata": {},
   "outputs": [],
   "source": [
    "df = pd.read_excel(\"friends.xls\")\n",
    "df"
   ]
  },
  {
   "cell_type": "code",
   "execution_count": null,
   "metadata": {},
   "outputs": [],
   "source": [
    "counts = df['Friends'].value_counts()\n",
    "prop = df['Friends'].value_counts(normalize=True)*100\n",
    "print(\"Value Count:\\n\",counts,'\\n')\n",
    "print(\"Proportion:\\n\",prop)\n",
    "\n",
    "\n"
   ]
  },
  {
   "cell_type": "code",
   "execution_count": null,
   "metadata": {},
   "outputs": [],
   "source": [
    "# Creating figures\n",
    "fig1 = plt.figure(figsize=[10,10])\n",
    "ax1 = fig1.add_subplot(2,1,1)\n",
    "ax2 = fig1.add_subplot(2,1,2)\n",
    "\n",
    "# Create pie chart\n",
    "ax1.pie(list(prop),labels=[\"No Difference\",\"Opossite sex\", \"Same sex\"],autopct='%1.1f%%')\n",
    "\n",
    "# Create bar chart\n",
    "x = np.arange(3)\n",
    "ax2.bar(x,list(counts),tick_label=[\"No Difference\", \"Opposite sex\", \"Same sex\"])\n",
    "plt.show()\n"
   ]
  },
  {
   "cell_type": "markdown",
   "metadata": {},
   "source": [
    "<h2>Actors Dataset</h2>"
   ]
  },
  {
   "cell_type": "code",
   "execution_count": 55,
   "metadata": {},
   "outputs": [
    {
     "data": {
      "text/plain": [
       "(40, 50]    16\n",
       "(30, 40]    15\n",
       "(50, 60]     9\n",
       "(20, 30]     2\n",
       "(70, 80]     1\n",
       "(60, 70]     1\n",
       "(80, 90]     0\n",
       "(10, 20]     0\n",
       "Name: Age, dtype: int64"
      ]
     },
     "execution_count": 55,
     "metadata": {},
     "output_type": "execute_result"
    }
   ],
   "source": [
    "df = pd.read_excel(\"actor_2013.xls\")\n",
    "#df.describe()\n",
    "\n",
    "res = pd.cut(df['Age'],[10,20,30,40,50,60,70,80,90],).value_counts()\n",
    "res"
   ]
  },
  {
   "cell_type": "code",
   "execution_count": 51,
   "metadata": {},
   "outputs": [
    {
     "data": {
      "image/png": "[encoded data removed]",
      "text/plain": [
       "<Figure size 504x504 with 1 Axes>"
      ]
     },
     "metadata": {
      "needs_background": "light"
     },
     "output_type": "display_data"
    }
   ],
   "source": [
    "fig = plt.figure(figsize=[7, 7])\n",
    "ax = fig.add_subplot(111)\n",
    "x = np.arange(100)\n",
    "ax.hist(df['Age'])\n",
    "ax.set_xticks([i for i in range(40,45,1)])\n",
    "ax.set_xlabel(\"Actor's Age\")\n",
    "ax.set_ylabel(\"Number of actors\")\n",
    "plt.show()"
   ]
  }
 ],
 "metadata": {
  "kernelspec": {
   "display_name": "Python 3",
   "language": "python",
   "name": "python3"
  },
  "language_info": {
   "codemirror_mode": {
    "name": "ipython",
    "version": 3
   },
   "file_extension": ".py",
   "mimetype": "text/x-python",
   "name": "python",
   "nbconvert_exporter": "python",
   "pygments_lexer": "ipython3",
   "version": "3.7.3"
  }
 },
 "nbformat": 4,
 "nbformat_minor": 2
}
