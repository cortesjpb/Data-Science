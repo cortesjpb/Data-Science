{
 "cells": [
  {
   "cell_type": "markdown",
   "metadata": {},
   "source": [
    "# Introduccion a Python"
   ]
  },
  {
   "cell_type": "markdown",
   "metadata": {},
   "source": [
    "  - Python es un lenguaje de programación de scripting orientado a objetos\n",
    "  - Es un lenguaje interpretado.\n",
    "  - Nos permite interactuar con otros lenguajes e incorporarlos a nuestros códigos.\n",
    "\n",
    "        + Les recomiendo algunas páginas que suelen tener mucha información y bibliografía:\n",
    "             http://www.python.org.ar/\n",
    "\n",
    "             https://djangogirls.org/"
   ]
  },
  {
   "cell_type": "markdown",
   "metadata": {},
   "source": [
    "## ¿Por qué python?\n",
    "* Easy to learn\n",
    "* Es rápido escribir código\n",
    "* Muchos recursos disponibles\n",
    "* Multiplataforma"
   ]
  },
  {
   "cell_type": "markdown",
   "metadata": {},
   "source": [
    "# TUTORIAL DE PYTHON EN JUPITER NOTEBOOK"
   ]
  },
  {
   "cell_type": "markdown",
   "metadata": {},
   "source": [
    "## Comentarios"
   ]
  },
  {
   "cell_type": "code",
   "execution_count": null,
   "metadata": {},
   "outputs": [],
   "source": [
    "'''\n",
    "Comentario largo,\n",
    "ocupa varias líneas\n",
    "en Python\n",
    "'''\n",
    "print(\"Hola mundo\") # También es posible añadir un comentario al final de una línea de código"
   ]
  },
  {
   "cell_type": "markdown",
   "metadata": {},
   "source": [
    "\n",
    "**EJERCICIO:** Escribí un primer programa que imprima en pantalla: \"Bienvenido a MNI\""
   ]
  },
  {
   "cell_type": "code",
   "execution_count": null,
   "metadata": {},
   "outputs": [],
   "source": []
  },
  {
   "cell_type": "markdown",
   "metadata": {
    "slideshow": {
     "slide_type": "slide"
    }
   },
   "source": [
    "## Tipos de Datos\n",
    "\n",
    "### Algunos de los tipos básicos de datos en Python son:\n",
    "* int - para representar números enteros\n",
    "* long - para representar números enteros largos\n",
    "* float - para representar números reales\n",
    "* bool - para representar valores booleanos\n",
    "* complex - para representar números complejos (1+2j)\n",
    "* NoneType - Tipo especial del valor None\n",
    "\n",
    "**La función type() nos permite saber qué tipo de dato es una variable o un dato en particular**"
   ]
  },
  {
   "cell_type": "markdown",
   "metadata": {},
   "source": [
    " **EJERCICIO:** Imprimir qué tipo de dato es 3. ¿Y 'hola'?"
   ]
  },
  {
   "cell_type": "code",
   "execution_count": null,
   "metadata": {},
   "outputs": [],
   "source": []
  },
  {
   "cell_type": "code",
   "execution_count": null,
   "metadata": {},
   "outputs": [],
   "source": []
  },
  {
   "cell_type": "markdown",
   "metadata": {},
   "source": [
    "**Operaciones básicas:**\n",
    "\n",
    "| operación | operador |\n",
    "| :-------: | :------: |\n",
    "| suma      | +        |\n",
    "| resta     | -        |\n",
    "| multiplicación | *   |\n",
    "| división  | /        |\n",
    "| división entera | // |\n",
    "| módulo    | %        |\n",
    "| potencia | **    |\n",
    "\n",
    "\n",
    "\n",
    "\n",
    "\n",
    "**OJO: El resultado de la división es diferente en Python 2 y 3.**"
   ]
  },
  {
   "cell_type": "markdown",
   "metadata": {},
   "source": [
    "### Algunas operaciones"
   ]
  },
  {
   "cell_type": "code",
   "execution_count": null,
   "metadata": {
    "scrolled": true
   },
   "outputs": [],
   "source": [
    "3**2"
   ]
  },
  {
   "cell_type": "code",
   "execution_count": null,
   "metadata": {},
   "outputs": [],
   "source": [
    "10/3"
   ]
  },
  {
   "cell_type": "code",
   "execution_count": null,
   "metadata": {},
   "outputs": [],
   "source": [
    "10//3"
   ]
  },
  {
   "cell_type": "markdown",
   "metadata": {},
   "source": [
    "**Tambien existen operadores booleanos**\n",
    "\n",
    "+ Nos permitiran la toma de desiciones en sentencias if, for, etc.\n",
    "\n",
    "| operación | operador |\n",
    "| :-------: | :------: |\n",
    "| igualdad      | ==        |\n",
    "| desigualdad     | !=        |\n",
    "| mayor | >   |\n",
    "| menor  | <        |\n",
    "| mayor igual | >= |\n",
    "| menor igual    | <=        |"
   ]
  },
  {
   "cell_type": "markdown",
   "metadata": {},
   "source": [
    "# Comparaciones\n",
    "\n",
    "- mayor, menor, igual, distinto, mayor o igual, menor o igual\n",
    "- or, and, not\n"
   ]
  },
  {
   "cell_type": "code",
   "execution_count": null,
   "metadata": {
    "scrolled": true
   },
   "outputs": [],
   "source": [
    "3 <= 2"
   ]
  },
  {
   "cell_type": "code",
   "execution_count": null,
   "metadata": {},
   "outputs": [],
   "source": [
    "3 >= 2"
   ]
  },
  {
   "cell_type": "markdown",
   "metadata": {},
   "source": [
    "**Igualdad**"
   ]
  },
  {
   "cell_type": "code",
   "execution_count": null,
   "metadata": {},
   "outputs": [],
   "source": [
    "a = 5"
   ]
  },
  {
   "cell_type": "code",
   "execution_count": null,
   "metadata": {},
   "outputs": [],
   "source": [
    "a == 5"
   ]
  },
  {
   "cell_type": "code",
   "execution_count": null,
   "metadata": {},
   "outputs": [],
   "source": [
    "a != 5"
   ]
  },
  {
   "cell_type": "markdown",
   "metadata": {},
   "source": [
    "# Definiendo variables"
   ]
  },
  {
   "cell_type": "markdown",
   "metadata": {},
   "source": [
    "    - Una variable es designar un espacio en la memoria con un dato específico. \n",
    "    - Las variables no tienen un tipo asociado en Python. \n",
    "    \n",
    "La variable variable_1 no está definida para un tipo específico, como sucede en otros lenguajes de programación. De hecho, podríamos reasignar valores a una variable simplemente declarandolo de este modo:\n",
    "\n",
    "```python\n",
    "variable_1 = \"Graciela\"\n",
    "\n",
    "variable_1 = 2019\n",
    "```\n",
    "Hay palabras claves que por ende estarán prohibidas para nombrar variables prohibidas!"
   ]
  },
  {
   "cell_type": "code",
   "execution_count": null,
   "metadata": {},
   "outputs": [],
   "source": [
    "import keyword\n",
    "print(keyword.kwlist)"
   ]
  },
  {
   "cell_type": "markdown",
   "metadata": {},
   "source": [
    "# Operaciones con variables\n",
    "\n",
    "+ Se usan los identificadores para operar.\n",
    "+ Cada variable tiene asociado un tipo (ver con type).\n",
    "\n",
    "**EJERCICIO**: Declarar una variable de nombre 'mi_variable' que tenga como valor 3"
   ]
  },
  {
   "cell_type": "code",
   "execution_count": null,
   "metadata": {},
   "outputs": [],
   "source": []
  },
  {
   "cell_type": "markdown",
   "metadata": {},
   "source": [
    "**EJERCICIO**: Declarar una variable denominada 'doble', que tenga como valor el doble del valor de 'mi_variable'. Imprima el resultado"
   ]
  },
  {
   "cell_type": "code",
   "execution_count": null,
   "metadata": {},
   "outputs": [],
   "source": []
  },
  {
   "cell_type": "markdown",
   "metadata": {
    "slideshow": {
     "slide_type": "slide"
    }
   },
   "source": [
    "## Strings\n",
    "+ **String** es un tipo de dato que representa una sucesión, o cadena, de caracteres. \n",
    "+ Un string se obtiene simplemente escribiendo los caracteres/el caracter entre comillas. \n",
    "```python\n",
    "mi_string = \"este es mi primer string\"\n",
    "```\n",
    "+ Python trata las comillas simples al igual que las comillas dobles.\n",
    "+ En un string el primer caracter tiene índice cero.\n",
    "\n",
    "**PREGUNTA**: ¿Qué resultado nos daría la siguiente operación?: \n",
    "```python\n",
    "type(1) == type('1')\n",
    "```\n",
    "¿Y qué resultado nos daría la siguiente operación?: \n",
    "```python\n",
    "'python' == 'Python'\n",
    "```"
   ]
  },
  {
   "cell_type": "code",
   "execution_count": null,
   "metadata": {
    "slideshow": {
     "slide_type": "fragment"
    }
   },
   "outputs": [],
   "source": []
  },
  {
   "cell_type": "code",
   "execution_count": null,
   "metadata": {
    "scrolled": true,
    "slideshow": {
     "slide_type": "fragment"
    }
   },
   "outputs": [],
   "source": []
  },
  {
   "cell_type": "markdown",
   "metadata": {
    "slideshow": {
     "slide_type": "slide"
    }
   },
   "source": [
    "# ¡CUIDADO!\n",
    "\n",
    "De vez en cuando suceden cosas extrañas.\n",
    "\n",
    "¿Qué pasa si se incluyen comillas?"
   ]
  },
  {
   "cell_type": "code",
   "execution_count": null,
   "metadata": {
    "slideshow": {
     "slide_type": "fragment"
    }
   },
   "outputs": [],
   "source": [
    "noticiaConError = \"\"MNI\" se dicta los lunes y jueves\"\n",
    "print(noticiaConError)"
   ]
  },
  {
   "cell_type": "code",
   "execution_count": null,
   "metadata": {},
   "outputs": [],
   "source": [
    "unaNoticia = 'La primer clase de \"MNI\" es el miercoles'\n",
    "print(unaNoticia)"
   ]
  },
  {
   "cell_type": "markdown",
   "metadata": {
    "slideshow": {
     "slide_type": "fragment"
    }
   },
   "source": [
    "**Existen secuencias especiales como \\n (linea nueva) o \\t (tabulación) que tienen efectos sobre la visualización:**"
   ]
  },
  {
   "cell_type": "code",
   "execution_count": null,
   "metadata": {
    "scrolled": true,
    "slideshow": {
     "slide_type": "fragment"
    }
   },
   "outputs": [],
   "source": [
    "dosLineas = \"Esto aparece escrito en dos lineas\\n\"\n",
    "print(dosLineas + dosLineas)"
   ]
  },
  {
   "cell_type": "markdown",
   "metadata": {
    "slideshow": {
     "slide_type": "fragment"
    }
   },
   "source": [
    "**Distintas formas de escribir texto combinando variables:**"
   ]
  },
  {
   "cell_type": "code",
   "execution_count": null,
   "metadata": {},
   "outputs": [],
   "source": [
    "materia = \"Metodos numericos I\" \n",
    "\n",
    "print(materia + \" se dicta lunes y miercoles\")\n",
    "print(materia, \"se dicta lunes y miercoles\")\n",
    "print(f'{materia} se dicta lunes y miercoles')\n"
   ]
  },
  {
   "cell_type": "markdown",
   "metadata": {
    "slideshow": {
     "slide_type": "fragment"
    }
   },
   "source": [
    "La función **str()** convierte valores a string.\n",
    "\n",
    "**EJERCICIO**: convertir la variable 'doble' en un string"
   ]
  },
  {
   "cell_type": "code",
   "execution_count": null,
   "metadata": {
    "slideshow": {
     "slide_type": "slide"
    }
   },
   "outputs": [],
   "source": []
  },
  {
   "cell_type": "markdown",
   "metadata": {},
   "source": [
    "## Acceso a los elementos de la cadena."
   ]
  },
  {
   "cell_type": "markdown",
   "metadata": {},
   "source": [
    "Se puede acceder a los caracteres individuales de un string, del siguiente modo:\n",
    "\n",
    "    texto = \"Licenciatura en Informatica\"\n",
    "    print(texto[3])\n",
    "    \n",
    "De esta forma accedemos al cuarto caracter de nuestro string."
   ]
  },
  {
   "cell_type": "code",
   "execution_count": null,
   "metadata": {},
   "outputs": [],
   "source": [
    "texto = \"Licenciatura en Informatica\"\n",
    "print(texto[3])\n"
   ]
  },
  {
   "cell_type": "markdown",
   "metadata": {},
   "source": [
    "Se puede acceder a un rango de caracteres de un string, del siguiente modo:\n",
    "\n",
    "    texto = \"Licenciatura en Informatica\"\n",
    "    print(texto[3:5])\n",
    "    \n",
    "De esta forma accedemos desde el ...... caracter al ......"
   ]
  },
  {
   "cell_type": "code",
   "execution_count": null,
   "metadata": {},
   "outputs": [],
   "source": []
  },
  {
   "cell_type": "markdown",
   "metadata": {},
   "source": [
    "**PREGUNTA**: ¿cuál es el caracter 1 del texto?"
   ]
  },
  {
   "cell_type": "code",
   "execution_count": null,
   "metadata": {},
   "outputs": [],
   "source": [
    "print(texto[1])"
   ]
  },
  {
   "cell_type": "markdown",
   "metadata": {
    "slideshow": {
     "slide_type": "slide"
    }
   },
   "source": [
    "¿Qué pasa si ejecutamos la siguiente sentecia?\n",
    "```python\n",
    "texto[1] = 'y'\n",
    "```"
   ]
  },
  {
   "cell_type": "code",
   "execution_count": null,
   "metadata": {
    "slideshow": {
     "slide_type": "fragment"
    }
   },
   "outputs": [],
   "source": []
  },
  {
   "cell_type": "markdown",
   "metadata": {
    "slideshow": {
     "slide_type": "slide"
    }
   },
   "source": [
    "# Concatenación de cadenas\n",
    "¿Qué pasa si ejecutas la siguiente celda?\n",
    "\n",
    "```python\n",
    "texto1 = \"MNI\"\n",
    "print(texto + texto1)\n",
    "```\n",
    "\n"
   ]
  },
  {
   "cell_type": "code",
   "execution_count": null,
   "metadata": {},
   "outputs": [],
   "source": []
  },
  {
   "cell_type": "markdown",
   "metadata": {
    "slideshow": {
     "slide_type": "slide"
    }
   },
   "source": [
    "# Funciones útiles (métodos para strings)\n",
    "- ejemplos:\n",
    "    - **lower()**: convierte MAYUSCULAS en minusculas.\n",
    "    - **upper()**: convierte minusculas en MAYUSCULAS.\n",
    "    - **len()**: nos permite conocer la longitud (cantidad de caracteres de un string).\n",
    "    - **split('chars')**: divide el string por el caracter dado, obteniendose una lista de strings.\n",
    "    - **count('chars')**: cuenta la ocurrencia del caracter dado en un string.\n",
    "    - **replace('orig', 'reempl')**:reemplaza los caracteres de valor 'origin' por 'reempl'\n",
    "- más sobre cadenas [en la documentación de la librería estándar](http://docs.python.org/3/library/string.html)"
   ]
  },
  {
   "cell_type": "markdown",
   "metadata": {
    "slideshow": {
     "slide_type": "slide"
    }
   },
   "source": [
    "### Se pueden concatenar operaciones"
   ]
  },
  {
   "cell_type": "code",
   "execution_count": null,
   "metadata": {
    "slideshow": {
     "slide_type": "fragment"
    }
   },
   "outputs": [],
   "source": [
    "unTexto = 'Bienvenidos a Metodos Numericos I'\n",
    "conteo = unTexto.lower().count('e')\n",
    "print(\"Conteo de 'e': \", conteo)"
   ]
  },
  {
   "cell_type": "markdown",
   "metadata": {},
   "source": [
    "**EJERCICIO**: dada la siguiente frase, calcular el porcentaje de ocurrencia de la letra *r*.\n",
    "```python\n",
    "frase = El hardware es lo que hace a una máquina rápida; el software es lo que hace que una máquina rápida se vuelva lenta. Craig Bruce en 1990.\n",
    "```"
   ]
  },
  {
   "cell_type": "code",
   "execution_count": null,
   "metadata": {},
   "outputs": [],
   "source": []
  },
  {
   "cell_type": "markdown",
   "metadata": {},
   "source": [
    "# Estructuras de datos\n",
    "\n",
    "Las variables que vimos hasta ahora son sencillas y contienen un único **dato**.\n",
    "Python permite usar estructuras de datos más complejas que permiten almacenar y organizar colecciones de datos.\n",
    "Algunas de estas estructuras de datos son:\n",
    "* listas\n",
    "* diccionarios"
   ]
  },
  {
   "cell_type": "markdown",
   "metadata": {},
   "source": [
    "## Listas\n",
    " + Son secuencias de elementos, que pueden ser de cualquier tipo: int, float, string e inclusive otras listas.\n",
    " + Mutables y ordenadas.\n",
    " + A cada elemento de la lista le corresponde una posicion o indice, al cual se puede acceder como con las cadenas.\n"
   ]
  },
  {
   "cell_type": "code",
   "execution_count": null,
   "metadata": {},
   "outputs": [],
   "source": [
    "lista1 = [2,4,5,22]\n",
    "print(lista1)\n",
    "lista2 = ['Mamiferos','Marsupiales']\n",
    "print(lista2)\n",
    "lista3 = [100, 'hardware', lista1]\n",
    "print(lista3)"
   ]
  },
  {
   "cell_type": "markdown",
   "metadata": {},
   "source": [
    "**PREGUNTA**: ¿Cómo imprimirias el primer elemento de la lista 1?"
   ]
  },
  {
   "cell_type": "code",
   "execution_count": null,
   "metadata": {},
   "outputs": [],
   "source": [
    "print(lista1[0])"
   ]
  },
  {
   "cell_type": "markdown",
   "metadata": {},
   "source": [
    "**PREGUNTA**: ¿Cómo imprimirias el primer elemento del tercer elemento de la lista 3?"
   ]
  },
  {
   "cell_type": "code",
   "execution_count": null,
   "metadata": {},
   "outputs": [],
   "source": [
    "print(lista3[2][0])"
   ]
  },
  {
   "cell_type": "markdown",
   "metadata": {},
   "source": [
    "Se pueden alterar las litas: agregando o quitando elementos:\n",
    "```python\n",
    "lista2.append('Anfibios')\n",
    "print(lista2)\n",
    "lista2.insert(0,'Reptiles')\n",
    "print(lista2)\n",
    "del lista1[2]\n",
    "print(lista1)\n",
    "lista1.pop()\n",
    "print(lista1)\n",
    "```"
   ]
  },
  {
   "cell_type": "code",
   "execution_count": null,
   "metadata": {},
   "outputs": [],
   "source": []
  },
  {
   "cell_type": "code",
   "execution_count": null,
   "metadata": {},
   "outputs": [],
   "source": []
  },
  {
   "cell_type": "code",
   "execution_count": null,
   "metadata": {},
   "outputs": [],
   "source": []
  },
  {
   "cell_type": "markdown",
   "metadata": {},
   "source": [
    "Se puede operar con las listas"
   ]
  },
  {
   "cell_type": "code",
   "execution_count": null,
   "metadata": {},
   "outputs": [],
   "source": [
    "lista1 + lista2"
   ]
  },
  {
   "cell_type": "code",
   "execution_count": null,
   "metadata": {},
   "outputs": [],
   "source": [
    "lista2*2"
   ]
  },
  {
   "cell_type": "code",
   "execution_count": null,
   "metadata": {},
   "outputs": [],
   "source": [
    "min(lista1)"
   ]
  },
  {
   "cell_type": "code",
   "execution_count": null,
   "metadata": {},
   "outputs": [],
   "source": [
    "max(lista1)"
   ]
  },
  {
   "cell_type": "markdown",
   "metadata": {},
   "source": [
    "**Funciones de Listas**\n",
    " - list.append() para agregar elementos\n",
    " - list.insert(index,obj) para insertar un elemento\n",
    " - list.sort() ordenar la lista\n",
    " - len(list) longitud de la lista/cantidad de elementos\n",
    " \n",
    " \n",
    " **EJERCICIO**: Crea una lista vacía denominada 'PU'. Posteriormente agrega los elementos: 'P06' y 'P10'"
   ]
  },
  {
   "cell_type": "code",
   "execution_count": null,
   "metadata": {},
   "outputs": [],
   "source": []
  },
  {
   "cell_type": "markdown",
   "metadata": {},
   "source": [
    "## Diccionarios\n",
    "* Los diccionarios son agrupaciones de datos del tipos Clave -> Valor. No tienen orden. Así como las listas se declaran con corchetes y las tuplas con paréntesis, los diccionarios se declaran con llaves, siguiendo la sintaxis midict = {clave_1: \"valor\",clave_2: \"valor\"}\n",
    "```python\n",
    "mamiferos = {\"orangutan\" : 'placentario',\"canguro\" : 'marsupial'}\n",
    "```\n",
    "* Se puede acceder a los valores para cada clave haciendo, por ejemplo:\n",
    "```\n",
    "mamiferos['orangutan']\n",
    "```\n",
    "* ¿Qué cosas quiero hacer un diccionario?\n",
    " * Guardar (o actualizar) un dato con clave\n",
    " * Recuperar un dato por su clave\n",
    " * Saber si una valor dado es una clave\n",
    " * Recuperar todas las claves\n",
    " * Eliminar valores.\n",
    " \n",
    "### Declarar diccionarios"
   ]
  },
  {
   "cell_type": "markdown",
   "metadata": {},
   "source": [
    "Con la función **dict()** creamos un nuevo diccionario vacio. Y agregamos valores para distintas claves\n",
    "```python\n",
    "personas = dict()\n",
    "personas['Patricia'] = 'Profesora'\n",
    "persona['Leonardo'] = 'Auxiliar'\n",
    "```"
   ]
  },
  {
   "cell_type": "markdown",
   "metadata": {
    "collapsed": true
   },
   "source": [
    "O podemos simplemente declarar el diccionario como una variable, que entre llaves tiene las claves y los valores separados por comas\n",
    "```python\n",
    "Materias = {'Algoritmos': 'LIA', 'Taller I': 'LIB', 'Metodos Numericos I': 'P10', 'Arquitectura': 'LIC'}\n",
    "```"
   ]
  },
  {
   "cell_type": "markdown",
   "metadata": {},
   "source": [
    "### Acceso a los elementos del diccionario\n",
    "* Las funciones **keys()** y **values()** permiten recuperar listas con las claves y los valores. \n",
    "* No tienen ningún orden."
   ]
  },
  {
   "cell_type": "code",
   "execution_count": null,
   "metadata": {},
   "outputs": [],
   "source": [
    "Materias = {'Algoritmos': 'LIA', 'Taller I': 'LIB', 'Metodos Numericos I': 'P10', 'Arquitectura': 'LIC'}\n",
    "\n",
    "print(Materias)"
   ]
  },
  {
   "cell_type": "code",
   "execution_count": null,
   "metadata": {},
   "outputs": [],
   "source": [
    "Materias.keys()"
   ]
  },
  {
   "cell_type": "code",
   "execution_count": null,
   "metadata": {},
   "outputs": [],
   "source": [
    "Materias.values()"
   ]
  },
  {
   "cell_type": "markdown",
   "metadata": {
    "slideshow": {
     "slide_type": "slide"
    }
   },
   "source": [
    "# Estructuras de control\n",
    "Python, al igual que todos los lenguages de programación, incluye sentencias permiten controlar el flujo del programa. Esto permite tomar desiciones, repetir una tarea y recorrer estructuras de datos.\n",
    "\n",
    "## Estructuración por indentación\n",
    "* La indentación es el espacio que existe entre cada línea de código y el margen.\n",
    "* A diferencia de muchos otros lenguages de programación, la indentación en python no es sólo por estética sino que define la estructura del código.\n",
    "\n",
    "## Construcción Loop FOR\n",
    "\n",
    "``` python\n",
    "for x in elemento iterable:\n",
    "    orden 1\n",
    "    orden 2\n",
    "```\n",
    "\n",
    "- los bloques se identifican por la indentación"
   ]
  },
  {
   "cell_type": "code",
   "execution_count": null,
   "metadata": {},
   "outputs": [],
   "source": [
    "lista_materia = ['Programacion','Algoritmos I','Taller de Lenguaje']\n",
    "\n",
    "iniciales = []\n",
    "for i in lista_materia:\n",
    "    ini = i[0:4]\n",
    "    iniciales.append(ini)\n",
    "    \n",
    "print(iniciales)"
   ]
  },
  {
   "cell_type": "markdown",
   "metadata": {
    "slideshow": {
     "slide_type": "slide"
    }
   },
   "source": [
    "### Todo lo iterable se puede iterar\n",
    "\n",
    "- iterables son objetos que contienen el método \\_\\_iter\\_\\_():\n",
    "    - números que provienen de range, arange, etc\n",
    "    - cadenas de caracteres\n",
    "    - lineas de un archivo de texto\n",
    "    - listas\n",
    "    - diccionarios\n",
    "    - ...\n"
   ]
  },
  {
   "cell_type": "markdown",
   "metadata": {},
   "source": [
    "**Ejercicio:** Analice cada ejecucion del lazo for, concluya la salida, y luego verifique su resultado\n",
    "\n",
    "- \n",
    "```python\n",
    "print(\"Comienzo\")\n",
    "for i in [0, 1, 2]:\n",
    "    print(\"Hola. Ahora i vale\", i)\n",
    "print(\"Fin\")\n",
    "```\n",
    "\n",
    "- \n",
    "```python\n",
    "print(\"Comienzo\")\n",
    "for i in [1, 1, 1, 1]:\n",
    "    print(\"Hola. Ahora i vale\", i)\n",
    "print(\"Final\")\n",
    "```\n",
    "\n",
    "- \n",
    "```python\n",
    "print(\"Comienzo\")\n",
    "for i in []:\n",
    "    print(\"Hola. Ahora i vale\", i)\n",
    "print(\"Final\")\n",
    "```\n",
    "\n",
    "- \n",
    "```python\n",
    "print(\"Comienzo\")\n",
    "for i in [\"Alba\", \"Benito\", 27]:\n",
    "    print(\"Hola. Ahora i vale\", i)\n",
    "print(\"Final\")\n",
    "```"
   ]
  },
  {
   "cell_type": "code",
   "execution_count": null,
   "metadata": {},
   "outputs": [],
   "source": []
  },
  {
   "cell_type": "code",
   "execution_count": null,
   "metadata": {},
   "outputs": [],
   "source": []
  },
  {
   "cell_type": "code",
   "execution_count": null,
   "metadata": {},
   "outputs": [],
   "source": []
  },
  {
   "cell_type": "code",
   "execution_count": null,
   "metadata": {},
   "outputs": [],
   "source": []
  },
  {
   "cell_type": "markdown",
   "metadata": {},
   "source": [
    "### Tipo range\n",
    "El tipo range es una lista inmutable de números enteros en sucesión aritmética.\n",
    "\n",
    "Inmutable significa que, a diferencia de las listas, los range no se pueden modificar.\n",
    "\n",
    "Nota: En Python 2, range() se consideraba una función, pero en Python 3 es un tipo de datos , aunque se utiliza como si fuera una función.\n",
    "\n",
    "El tipo range() con un único argumento se escribe range(n) y crea una lista inmutable de n números enteros consecutivos que empieza en 0 y acaba en n - 1.\n",
    "\n",
    "Para ver los valores del range(), es necesario convertirlo a lista mediante la función list().\n",
    "\n",
    "\n",
    "``` python\n",
    "a = range (21)\n",
    "print(a)\n",
    "\n",
    "print(list(a))\n",
    "\n",
    "for i in range(a):\n",
    "    print(i)\n",
    "```"
   ]
  },
  {
   "cell_type": "code",
   "execution_count": null,
   "metadata": {},
   "outputs": [],
   "source": []
  },
  {
   "cell_type": "markdown",
   "metadata": {},
   "source": [
    "## Toma de decisiones: if...else...\n",
    "\n",
    "La estructura general es:\n",
    "```python\n",
    "if condicion:\n",
    "    Codigo si la condicion es verdadera\n",
    "else :\n",
    "    Codigo si la condicion es falsa\n",
    "```\n",
    "\n",
    "**los bloques se identifican por la indentación**"
   ]
  },
  {
   "cell_type": "markdown",
   "metadata": {},
   "source": [
    "### If evalúa condiciones lógicas\n",
    "\n",
    "+ puede ser una expresión: \n",
    "    \n",
    "    ``` python \n",
    "    if valor > umbral:\n",
    "        Acciones\n",
    "    ```\n",
    "    \n",
    "+ pueden ser expresiones anidadas: \n",
    "    \n",
    "    ``` python \n",
    "    if (valor > piso) and (valor < techo):\n",
    "        Acciones\n",
    "\n",
    "    ```\n",
    "    \n"
   ]
  },
  {
   "cell_type": "code",
   "execution_count": null,
   "metadata": {},
   "outputs": [],
   "source": [
    "# A partir de una lista de carreras de la FaCET, mostrar las carreras de Ingenieria\n",
    "\n",
    "carreras = ['Lic en Informatica', 'Ing Quimica', 'Prog Universitario', 'Ing en Computacion']\n",
    "\n",
    "for i in carreras:\n",
    "    if 'Ing' in i :\n",
    "        print(i + \" es una ingenieria\")\n",
    "    else:\n",
    "        print('Ups! ' + i + ' no es una Ingenieria')\n"
   ]
  },
  {
   "cell_type": "markdown",
   "metadata": {},
   "source": [
    "Modificar el codigo anterior para que muestre las carreras que no son de Ingenieria"
   ]
  },
  {
   "cell_type": "code",
   "execution_count": null,
   "metadata": {},
   "outputs": [],
   "source": []
  },
  {
   "cell_type": "markdown",
   "metadata": {},
   "source": [
    "### Anidando condiciones (elif)"
   ]
  },
  {
   "cell_type": "code",
   "execution_count": null,
   "metadata": {},
   "outputs": [],
   "source": [
    "numA = input(\"ingrese numero A: \")\n",
    "numB = input(\"ingrese numero b: \")\n",
    "\n",
    "if numA > numB:\n",
    "    print(\"numero A es mayor\")\n",
    "elif numA < numB:\n",
    "    print(\"numero B es mayor\")\n",
    "else:\n",
    "    print(\"Ambos numeros son iguales\")"
   ]
  },
  {
   "cell_type": "markdown",
   "metadata": {},
   "source": [
    "## Construccion del Mientras\n",
    "\n",
    "\n",
    "``` python\n",
    "\n",
    "while condicion:\n",
    "    acciones\n",
    "```\n",
    "\n"
   ]
  },
  {
   "cell_type": "code",
   "execution_count": null,
   "metadata": {},
   "outputs": [],
   "source": [
    "i = 1\n",
    "while i <= 50:\n",
    "    print(i)\n",
    "    i = 2 * i\n",
    "    \n",
    "print(\"Programa terminado\")"
   ]
  },
  {
   "cell_type": "markdown",
   "metadata": {},
   "source": [
    "**Ejercicio:** Escriba un programa que pida la cantidad de números positivos que se tienen que escribir y a continuación ingrese números hasta que se haya escrito la cantidad de números positivos indicada.\n",
    "\n"
   ]
  },
  {
   "cell_type": "code",
   "execution_count": null,
   "metadata": {},
   "outputs": [],
   "source": []
  },
  {
   "cell_type": "markdown",
   "metadata": {},
   "source": [
    "## Módulos (librerías) \n",
    "\n",
    "* Incorporan funcionalidades. \n",
    "* Pueden ser módulos definidos por el usuario.\n",
    "\n",
    "### Diferentes sintaxis de \"imports\" / Importando librerías\n",
    "\n",
    "\n",
    "``` python\n",
    "import matplotlib\n",
    "import matplotlib as mpl\n",
    "from matplotlib import *\n",
    "from matplotlib import pyplot \n",
    "from matplotlib import pyplot as plt\n",
    "```"
   ]
  },
  {
   "cell_type": "markdown",
   "metadata": {},
   "source": [
    "**Ejercicio:** Importe la libreria numpy, y cree distintos tipos de arreglos usando:\n",
    "* ones\n",
    "* zeros\n",
    "* arange\n",
    "* linspace\n",
    "\n",
    "*help*: usar \"?\" al final del metodo"
   ]
  },
  {
   "cell_type": "code",
   "execution_count": null,
   "metadata": {},
   "outputs": [],
   "source": []
  },
  {
   "cell_type": "code",
   "execution_count": null,
   "metadata": {},
   "outputs": [],
   "source": []
  },
  {
   "cell_type": "code",
   "execution_count": null,
   "metadata": {},
   "outputs": [],
   "source": []
  },
  {
   "cell_type": "code",
   "execution_count": null,
   "metadata": {},
   "outputs": [],
   "source": []
  },
  {
   "cell_type": "markdown",
   "metadata": {},
   "source": [
    "# Funciones definidas por el usuario\n",
    "\n",
    "Las funciones se pueden crear en cualquier punto de un programa, escribiendo su definición.\n",
    "\n",
    "La primera línea de la definición de una función contiene:\n",
    "\n",
    "* la palabra reservada ***def***\n",
    "* el nombre de la función\n",
    "* paréntesis (que pueden incluir los argumentos de la función) seguido de \":\" \n",
    "\n",
    "Las instrucciones que forman la función se escriben con sangría con respecto a la primera línea.\n",
    "\n",
    "Se puede indicar el final de la función con la palabra reservada return, aunque no es obligatorio.\n",
    "\n",
    "Para poder utilizar una función en un programa se tiene que haber definido antes. Por ello, normalmente las definiciones de las funciones se suelen escribir al principio de los programas\n",
    "\n",
    "**Ejemplo:**\n",
    "```python\n",
    "def suma(a,b):\n",
    "    return a+b\n",
    "\n",
    "print(suma(5,10))\n",
    "```"
   ]
  },
  {
   "cell_type": "code",
   "execution_count": null,
   "metadata": {},
   "outputs": [],
   "source": []
  },
  {
   "cell_type": "markdown",
   "metadata": {},
   "source": [
    "**Ejercicio:** La serie infinita $f(n)=\\sum_{k=1}^n(1/i^4)$ converge a  un valor de $f(n)=pi^4/90$ conforme n tiende a infinito. Escriba una función para calcular f(n) para distintos valores de n. "
   ]
  },
  {
   "cell_type": "code",
   "execution_count": null,
   "metadata": {},
   "outputs": [],
   "source": []
  },
  {
   "cell_type": "markdown",
   "metadata": {},
   "source": [
    "# Graficos\n",
    "\n",
    "**import matplotlib.pyplot as plt**\n",
    "\n",
    "**figure**(num = None, figsize = (8, 6), dpi = 80, facecolor = 'w', edgecolor = 'k')\n",
    "\n",
    "**subplot**(numRows, numCols, plotNum):Permite incluir varias gráficas en una única figura.\n",
    "\n",
    "**plot**(x, y, linestyle, linewidth, marker):Permite incluir varias gráficas en una única figura. Tanto x como y pueden ser abcisas tuplas, listas o arrays. La única condición es que el tamaño de ambas debe ser el mismo ya que en caso contrario python nos devolverá un fallo de tipo dimesión. \n",
    "\n",
    "**show()**: Presenta las figuras en pantalla.\n",
    "\n",
    "**xlabel**(‘s’, comandos_optativos): Etiqueta el eje X\n",
    "\n",
    "**ylabel**(‘s’, comandos_optativos): Etiqueta el eje Y\n",
    "\n",
    "**title**(‘s’, comandos_optativos): Coloca un titulo a la gráfica\n",
    "\n",
    "**axis**() Establece u obtiene las propiedades de los ejes\n",
    "\n",
    "\n",
    "Mas info de colores: https://matplotlib.org/users/dflt_style_changes.html y https://matplotlib.org/examples/color/named_colors.html\n"
   ]
  },
  {
   "cell_type": "markdown",
   "metadata": {},
   "source": [
    "**Ejemplo 1:**\n",
    "```python\n",
    "import numpy as np\n",
    "import matplotlib.pyplot as plt\n",
    "\n",
    "x = np.linspace(1,10,10)\n",
    "y1 = np.cos(x)\n",
    "y2 = x*2\n",
    "\n",
    "plt.plot(x,y1,x,y2)\n",
    "\"\"\"\n",
    "plt.plot(x,y1,marker='+')\n",
    "plt.plot(x,y2,'ro')\n",
    "\"\"\"\n",
    "plt.title(\"Graficas\")\n",
    "plt.legend(('y1','y2'), loc='upper left')\n",
    "plt.xlabel('x')\n",
    "plt.ylabel('y', fontsize=20)\n",
    "plt.show()\n",
    "```\n",
    "\n",
    "**Ejemplo 2:**\n",
    "```python\n",
    "import numpy as np\n",
    "import matplotlib.pyplot as plt\n",
    "\n",
    "x = np.linspace(1,10,100)\n",
    "y1 = x**3+3*x+10\n",
    "y2 = x*2\n",
    "y3 = np.cos(x)\n",
    "y4 = np.sin(x)\n",
    "\n",
    "plt.figure(1, (10,6), 50, 'y', 'g')\n",
    "\n",
    "plt.subplot(2,1,1)\n",
    "plt.plot(x,y1)\n",
    "\n",
    "plt.subplot(2,1,2)\n",
    "plt.plot(x,y2)\n",
    "\n",
    "\n",
    "plt.figure(2, (10,6),50,'c','g')\n",
    "\n",
    "plt.subplot(2,1,1)\n",
    "plt.plot(x,y3)\n",
    "\n",
    "plt.subplot(2,1,2)\n",
    "plt.plot(x,y4)\n",
    "\n",
    "plt.show()\n",
    "```\n",
    "\n"
   ]
  },
  {
   "cell_type": "code",
   "execution_count": null,
   "metadata": {},
   "outputs": [],
   "source": []
  },
  {
   "cell_type": "code",
   "execution_count": null,
   "metadata": {},
   "outputs": [],
   "source": []
  },
  {
   "cell_type": "markdown",
   "metadata": {},
   "source": [
    "**Ejercicio**\n",
    "\n",
    "Diseñe y escriba un algoritmo para generar la siguiente tabla: \n",
    "\n",
    "| n | n/3 | n! |\n",
    "| :-------: | :------: | :------: |\n",
    "| 1 | 0 | 1 |\n",
    "| 3 | 1 | 6 |\n",
    "| 5 | 1.666 | 120 |\n",
    "| 7 | 2.333 | 5040 |\n",
    "\n",
    "\n",
    "\n",
    "Donde: n! es el factorial de numero entero n. \n",
    "\n",
    "Pruebe su programa para distintos valores de n. Grafique los resultados de n/3 y n! en 2 subplot, probando los diferentes métodos de matplotlib.pyplot"
   ]
  }
 ],
 "metadata": {
  "kernelspec": {
   "display_name": "Python 3",
   "language": "python",
   "name": "python3"
  },
  "language_info": {
   "codemirror_mode": {
    "name": "ipython",
    "version": 3
   },
   "file_extension": ".py",
   "mimetype": "text/x-python",
   "name": "python",
   "nbconvert_exporter": "python",
   "pygments_lexer": "ipython3",
   "version": "3.6.4"
  }
 },
 "nbformat": 4,
 "nbformat_minor": 1
}
